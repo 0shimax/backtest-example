{
 "cells": [
  {
   "cell_type": "code",
   "execution_count": 48,
   "metadata": {},
   "outputs": [],
   "source": [
    "from typing import Dict, Tuple, List, Any\n",
    "from pathlib import Path\n",
    "import numpy as np\n",
    "from kedro.framework.session import KedroSession\n",
    "from kedro.framework.startup import bootstrap_project"
   ]
  },
  {
   "cell_type": "code",
   "execution_count": 20,
   "metadata": {},
   "outputs": [
    {
     "name": "stdout",
     "output_type": "stream",
     "text": [
      "2022-01-01 07:01:38,488 - kedro.framework.session.store - INFO - `read()` not implemented for `BaseSessionStore`. Assuming empty store.\n",
      "2022-01-01 07:01:38,545 - kedro.framework.session.store - INFO - `save()` not implemented for `BaseSessionStore`. Skipping the step.\n"
     ]
    },
    {
     "name": "stderr",
     "output_type": "stream",
     "text": [
      "/usr/local/lib/python3.8/site-packages/kedro/config/config.py:296: UserWarning: Duplicate environment detected! Skipping re-loading from configuration path: /backtest-example/backtest-example/conf/base\n",
      "  warn(\n"
     ]
    }
   ],
   "source": [
    "metadata = bootstrap_project(Path.cwd().parent.parent)\n",
    "with KedroSession.create(metadata.package_name,\n",
    "        project_path=metadata.project_path,\n",
    "        env=\"base\",\n",
    "    ) as session: \n",
    "    context = session.load_context()"
   ]
  },
  {
   "cell_type": "code",
   "execution_count": 3,
   "metadata": {},
   "outputs": [],
   "source": [
    "import pandas as pd\n",
    "import ccxt\n",
    "\n",
    "def _data_to_df(data):\n",
    "    \"\"\"CCXTから取得したデータをDataFrameに変換\"\"\"\n",
    "\n",
    "    df = pd.DataFrame(\n",
    "        data, columns=[\"Date Time\", \"Open\", \"High\", \"Low\", \"Close\", \"Volume\"]\n",
    "    )\n",
    "    df[\"Date Time\"] = pd.to_datetime(df[\"Date Time\"] / 1000, unit=\"s\")\n",
    "    df.set_index(\"Date Time\", inplace=True)\n",
    "    return df\n",
    "\n",
    "\n",
    "def get_data(ticker, timeframe=\"5m\"):\n",
    "    # 取引所のリミットレート(アクセス制限)を超えないように設定\n",
    "    exchange = ccxt.ftx({\"enableRateLimit\": True})\n",
    "    df = _data_to_df(\n",
    "        exchange.fetch_ohlcv(\n",
    "            ticker, \n",
    "            timeframe=timeframe, \n",
    "            params={\"reverse\": False})\n",
    "    )\n",
    "    return df"
   ]
  },
  {
   "cell_type": "code",
   "execution_count": 7,
   "metadata": {},
   "outputs": [
    {
     "name": "stderr",
     "output_type": "stream",
     "text": [
      "/usr/local/lib/python3.8/site-packages/kedro/config/config.py:296: UserWarning: Duplicate environment detected! Skipping re-loading from configuration path: /backtest-example/backtest-example/conf/base\n",
      "  warn(\n"
     ]
    }
   ],
   "source": [
    "series = get_data(context.params[\"data_params\"][\"ticker\"])"
   ]
  },
  {
   "cell_type": "code",
   "execution_count": 8,
   "metadata": {},
   "outputs": [
    {
     "name": "stdout",
     "output_type": "stream",
     "text": [
      "2021-12-31 11:44:14,207 - kedro.io.data_catalog - INFO - Saving data to `series` (PickleDataSet)...\n"
     ]
    },
    {
     "name": "stderr",
     "output_type": "stream",
     "text": [
      "/usr/local/lib/python3.8/site-packages/kedro/framework/context/context.py:488: UserWarning: Credentials not found in your Kedro project config.\n",
      "No files found in ['/backtest-example/backtest-example/conf/base'] matching the glob pattern(s): ['credentials*', 'credentials*/**', '**/credentials*']\n",
      "  warn(f\"Credentials not found in your Kedro project config.\\n{str(exc)}\")\n"
     ]
    }
   ],
   "source": [
    "context.catalog.save(\"series\", series)"
   ]
  },
  {
   "cell_type": "code",
   "execution_count": 9,
   "metadata": {},
   "outputs": [
    {
     "data": {
      "text/html": [
       "<div>\n",
       "<style scoped>\n",
       "    .dataframe tbody tr th:only-of-type {\n",
       "        vertical-align: middle;\n",
       "    }\n",
       "\n",
       "    .dataframe tbody tr th {\n",
       "        vertical-align: top;\n",
       "    }\n",
       "\n",
       "    .dataframe thead th {\n",
       "        text-align: right;\n",
       "    }\n",
       "</style>\n",
       "<table border=\"1\" class=\"dataframe\">\n",
       "  <thead>\n",
       "    <tr style=\"text-align: right;\">\n",
       "      <th></th>\n",
       "      <th>Open</th>\n",
       "      <th>High</th>\n",
       "      <th>Low</th>\n",
       "      <th>Close</th>\n",
       "      <th>Volume</th>\n",
       "    </tr>\n",
       "    <tr>\n",
       "      <th>Date Time</th>\n",
       "      <th></th>\n",
       "      <th></th>\n",
       "      <th></th>\n",
       "      <th></th>\n",
       "      <th></th>\n",
       "    </tr>\n",
       "  </thead>\n",
       "  <tbody>\n",
       "    <tr>\n",
       "      <th>2021-12-26 06:40:00</th>\n",
       "      <td>49944.0</td>\n",
       "      <td>49944.0</td>\n",
       "      <td>49828.0</td>\n",
       "      <td>49857.0</td>\n",
       "      <td>6.472639e+06</td>\n",
       "    </tr>\n",
       "    <tr>\n",
       "      <th>2021-12-26 06:45:00</th>\n",
       "      <td>49857.0</td>\n",
       "      <td>49926.0</td>\n",
       "      <td>49852.0</td>\n",
       "      <td>49879.0</td>\n",
       "      <td>3.624762e+06</td>\n",
       "    </tr>\n",
       "    <tr>\n",
       "      <th>2021-12-26 06:50:00</th>\n",
       "      <td>49879.0</td>\n",
       "      <td>49906.0</td>\n",
       "      <td>49870.0</td>\n",
       "      <td>49899.0</td>\n",
       "      <td>2.146552e+06</td>\n",
       "    </tr>\n",
       "    <tr>\n",
       "      <th>2021-12-26 06:55:00</th>\n",
       "      <td>49899.0</td>\n",
       "      <td>49929.0</td>\n",
       "      <td>49879.0</td>\n",
       "      <td>49929.0</td>\n",
       "      <td>2.214015e+06</td>\n",
       "    </tr>\n",
       "    <tr>\n",
       "      <th>2021-12-26 07:00:00</th>\n",
       "      <td>49929.0</td>\n",
       "      <td>49935.0</td>\n",
       "      <td>49889.0</td>\n",
       "      <td>49911.0</td>\n",
       "      <td>3.076039e+06</td>\n",
       "    </tr>\n",
       "  </tbody>\n",
       "</table>\n",
       "</div>"
      ],
      "text/plain": [
       "                        Open     High      Low    Close        Volume\n",
       "Date Time                                                            \n",
       "2021-12-26 06:40:00  49944.0  49944.0  49828.0  49857.0  6.472639e+06\n",
       "2021-12-26 06:45:00  49857.0  49926.0  49852.0  49879.0  3.624762e+06\n",
       "2021-12-26 06:50:00  49879.0  49906.0  49870.0  49899.0  2.146552e+06\n",
       "2021-12-26 06:55:00  49899.0  49929.0  49879.0  49929.0  2.214015e+06\n",
       "2021-12-26 07:00:00  49929.0  49935.0  49889.0  49911.0  3.076039e+06"
      ]
     },
     "execution_count": 9,
     "metadata": {},
     "output_type": "execute_result"
    }
   ],
   "source": [
    "series.head()"
   ]
  },
  {
   "cell_type": "code",
   "execution_count": 11,
   "metadata": {},
   "outputs": [],
   "source": [
    "import talib\n",
    "\n",
    "def calc_features(df: pd.DataFrame):\n",
    "    open = df[\"Open\"]\n",
    "    high = df[\"High\"]\n",
    "    low = df[\"Low\"]\n",
    "    close = df[\"Close\"]\n",
    "    volume = df[\"Volume\"]\n",
    "    \n",
    "    hilo = (df[\"High\"] + df[\"Low\"]) / 2\n",
    "    df['BBANDS_upperband'], df['BBANDS_middleband'], df['BBANDS_lowerband'] = talib.BBANDS(close, timeperiod=5, nbdevup=2, nbdevdn=2, matype=0)\n",
    "    df['BBANDS_upperband'] -= hilo\n",
    "    df['BBANDS_middleband'] -= hilo\n",
    "    df['BBANDS_lowerband'] -= hilo\n",
    "    df['DEMA'] = talib.DEMA(close, timeperiod=30) - hilo\n",
    "    df['EMA'] = talib.EMA(close, timeperiod=30) - hilo\n",
    "    df['HT_TRENDLINE'] = talib.HT_TRENDLINE(close) - hilo\n",
    "    df['KAMA'] = talib.KAMA(close, timeperiod=30) - hilo\n",
    "    df['MA'] = talib.MA(close, timeperiod=30, matype=0) - hilo\n",
    "    df['MIDPOINT'] = talib.MIDPOINT(close, timeperiod=14) - hilo\n",
    "    df['SMA'] = talib.SMA(close, timeperiod=30) - hilo\n",
    "    df['T3'] = talib.T3(close, timeperiod=5, vfactor=0) - hilo\n",
    "    df['TEMA'] = talib.TEMA(close, timeperiod=30) - hilo\n",
    "    df['TRIMA'] = talib.TRIMA(close, timeperiod=30) - hilo\n",
    "    df['WMA'] = talib.WMA(close, timeperiod=30) - hilo\n",
    "\n",
    "    df['ADX'] = talib.ADX(high, low, close, timeperiod=14)\n",
    "    df['ADXR'] = talib.ADXR(high, low, close, timeperiod=14)\n",
    "    df['APO'] = talib.APO(close, fastperiod=12, slowperiod=26, matype=0)\n",
    "    df['AROON_aroondown'], df['AROON_aroonup'] = talib.AROON(high, low, timeperiod=14)\n",
    "    df['AROONOSC'] = talib.AROONOSC(high, low, timeperiod=14)\n",
    "    df['BOP'] = talib.BOP(open, high, low, close)\n",
    "    df['CCI'] = talib.CCI(high, low, close, timeperiod=14)\n",
    "    df['DX'] = talib.DX(high, low, close, timeperiod=14)\n",
    "    df['MACD_macd'], df['MACD_macdsignal'], df['MACD_macdhist'] = talib.MACD(close, fastperiod=12, slowperiod=26, signalperiod=9)\n",
    "    df['MFI'] = talib.MFI(high, low, close, volume, timeperiod=14)\n",
    "    df['MINUS_DI'] = talib.MINUS_DI(high, low, close, timeperiod=14)\n",
    "    df['MINUS_DM'] = talib.MINUS_DM(high, low, timeperiod=14)\n",
    "    df['MOM'] = talib.MOM(close, timeperiod=10)\n",
    "    df['PLUS_DI'] = talib.PLUS_DI(high, low, close, timeperiod=14)\n",
    "    df['PLUS_DM'] = talib.PLUS_DM(high, low, timeperiod=14)\n",
    "    df['RSI'] = talib.RSI(close, timeperiod=14)\n",
    "    df['STOCH_slowk'], df['STOCH_slowd'] = talib.STOCH(high, low, close, fastk_period=5, slowk_period=3, slowk_matype=0, slowd_period=3, slowd_matype=0)\n",
    "    df['STOCHF_fastk'], df['STOCHF_fastd'] = talib.STOCHF(high, low, close, fastk_period=5, fastd_period=3, fastd_matype=0)\n",
    "    df['STOCHRSI_fastk'], df['STOCHRSI_fastd'] = talib.STOCHRSI(close, timeperiod=14, fastk_period=5, fastd_period=3, fastd_matype=0)\n",
    "    df['TRIX'] = talib.TRIX(close, timeperiod=30)\n",
    "    df['ULTOSC'] = talib.ULTOSC(high, low, close, timeperiod1=7, timeperiod2=14, timeperiod3=28)\n",
    "    df['WILLR'] = talib.WILLR(high, low, close, timeperiod=14)\n",
    "\n",
    "    df['AD'] = talib.AD(high, low, close, volume)\n",
    "    df['ADOSC'] = talib.ADOSC(high, low, close, volume, fastperiod=3, slowperiod=10)\n",
    "    df['OBV'] = talib.OBV(close, volume)\n",
    "\n",
    "    df['ATR'] = talib.ATR(high, low, close, timeperiod=14)\n",
    "    df['NATR'] = talib.NATR(high, low, close, timeperiod=14)\n",
    "    df['TRANGE'] = talib.TRANGE(high, low, close)\n",
    "\n",
    "    df['HT_DCPERIOD'] = talib.HT_DCPERIOD(close)\n",
    "    df['HT_DCPHASE'] = talib.HT_DCPHASE(close)\n",
    "    df['HT_PHASOR_inphase'], df['HT_PHASOR_quadrature'] = talib.HT_PHASOR(close)\n",
    "    df['HT_SINE_sine'], df['HT_SINE_leadsine'] = talib.HT_SINE(close)\n",
    "    df['HT_TRENDMODE'] = talib.HT_TRENDMODE(close)\n",
    "\n",
    "    df['BETA'] = talib.BETA(high, low, timeperiod=5)\n",
    "    df['CORREL'] = talib.CORREL(high, low, timeperiod=30)\n",
    "    df['LINEARREG'] = talib.LINEARREG(close, timeperiod=14) - close\n",
    "    df['LINEARREG_ANGLE'] = talib.LINEARREG_ANGLE(close, timeperiod=14)\n",
    "    df['LINEARREG_INTERCEPT'] = talib.LINEARREG_INTERCEPT(close, timeperiod=14) - close\n",
    "    df['LINEARREG_SLOPE'] = talib.LINEARREG_SLOPE(close, timeperiod=14)\n",
    "    df['STDDEV'] = talib.STDDEV(close, timeperiod=5, nbdev=1)\n",
    "\n",
    "    return df"
   ]
  },
  {
   "cell_type": "code",
   "execution_count": 12,
   "metadata": {},
   "outputs": [
    {
     "name": "stdout",
     "output_type": "stream",
     "text": [
      "2021-12-31 11:45:08,633 - kedro.io.data_catalog - INFO - Loading data from `series` (PickleDataSet)...\n"
     ]
    },
    {
     "name": "stderr",
     "output_type": "stream",
     "text": [
      "/usr/local/lib/python3.8/site-packages/kedro/config/config.py:296: UserWarning: Duplicate environment detected! Skipping re-loading from configuration path: /backtest-example/backtest-example/conf/base\n",
      "  warn(\n",
      "/usr/local/lib/python3.8/site-packages/kedro/framework/context/context.py:488: UserWarning: Credentials not found in your Kedro project config.\n",
      "No files found in ['/backtest-example/backtest-example/conf/base'] matching the glob pattern(s): ['credentials*', 'credentials*/**', '**/credentials*']\n",
      "  warn(f\"Credentials not found in your Kedro project config.\\n{str(exc)}\")\n"
     ]
    }
   ],
   "source": [
    "features = calc_features(context.catalog.load(\"series\"))"
   ]
  },
  {
   "cell_type": "code",
   "execution_count": 14,
   "metadata": {},
   "outputs": [
    {
     "name": "stdout",
     "output_type": "stream",
     "text": [
      "2021-12-31 11:46:49,067 - kedro.io.data_catalog - INFO - Saving data to `features` (PickleDataSet)...\n"
     ]
    },
    {
     "name": "stderr",
     "output_type": "stream",
     "text": [
      "/usr/local/lib/python3.8/site-packages/kedro/config/config.py:296: UserWarning: Duplicate environment detected! Skipping re-loading from configuration path: /backtest-example/backtest-example/conf/base\n",
      "  warn(\n",
      "/usr/local/lib/python3.8/site-packages/kedro/framework/context/context.py:488: UserWarning: Credentials not found in your Kedro project config.\n",
      "No files found in ['/backtest-example/backtest-example/conf/base'] matching the glob pattern(s): ['credentials*', 'credentials*/**', '**/credentials*']\n",
      "  warn(f\"Credentials not found in your Kedro project config.\\n{str(exc)}\")\n"
     ]
    }
   ],
   "source": [
    "context.catalog.save(\"features\", features)"
   ]
  },
  {
   "cell_type": "code",
   "execution_count": 13,
   "metadata": {},
   "outputs": [
    {
     "data": {
      "text/html": [
       "<div>\n",
       "<style scoped>\n",
       "    .dataframe tbody tr th:only-of-type {\n",
       "        vertical-align: middle;\n",
       "    }\n",
       "\n",
       "    .dataframe tbody tr th {\n",
       "        vertical-align: top;\n",
       "    }\n",
       "\n",
       "    .dataframe thead th {\n",
       "        text-align: right;\n",
       "    }\n",
       "</style>\n",
       "<table border=\"1\" class=\"dataframe\">\n",
       "  <thead>\n",
       "    <tr style=\"text-align: right;\">\n",
       "      <th></th>\n",
       "      <th>Open</th>\n",
       "      <th>High</th>\n",
       "      <th>Low</th>\n",
       "      <th>Close</th>\n",
       "      <th>Volume</th>\n",
       "      <th>BBANDS_upperband</th>\n",
       "      <th>BBANDS_middleband</th>\n",
       "      <th>BBANDS_lowerband</th>\n",
       "      <th>DEMA</th>\n",
       "      <th>EMA</th>\n",
       "      <th>...</th>\n",
       "      <th>HT_SINE_sine</th>\n",
       "      <th>HT_SINE_leadsine</th>\n",
       "      <th>HT_TRENDMODE</th>\n",
       "      <th>BETA</th>\n",
       "      <th>CORREL</th>\n",
       "      <th>LINEARREG</th>\n",
       "      <th>LINEARREG_ANGLE</th>\n",
       "      <th>LINEARREG_INTERCEPT</th>\n",
       "      <th>LINEARREG_SLOPE</th>\n",
       "      <th>STDDEV</th>\n",
       "    </tr>\n",
       "    <tr>\n",
       "      <th>Date Time</th>\n",
       "      <th></th>\n",
       "      <th></th>\n",
       "      <th></th>\n",
       "      <th></th>\n",
       "      <th></th>\n",
       "      <th></th>\n",
       "      <th></th>\n",
       "      <th></th>\n",
       "      <th></th>\n",
       "      <th></th>\n",
       "      <th></th>\n",
       "      <th></th>\n",
       "      <th></th>\n",
       "      <th></th>\n",
       "      <th></th>\n",
       "      <th></th>\n",
       "      <th></th>\n",
       "      <th></th>\n",
       "      <th></th>\n",
       "      <th></th>\n",
       "      <th></th>\n",
       "    </tr>\n",
       "  </thead>\n",
       "  <tbody>\n",
       "    <tr>\n",
       "      <th>2021-12-26 06:40:00</th>\n",
       "      <td>49944.0</td>\n",
       "      <td>49944.0</td>\n",
       "      <td>49828.0</td>\n",
       "      <td>49857.0</td>\n",
       "      <td>6.472639e+06</td>\n",
       "      <td>NaN</td>\n",
       "      <td>NaN</td>\n",
       "      <td>NaN</td>\n",
       "      <td>NaN</td>\n",
       "      <td>NaN</td>\n",
       "      <td>...</td>\n",
       "      <td>NaN</td>\n",
       "      <td>NaN</td>\n",
       "      <td>0</td>\n",
       "      <td>NaN</td>\n",
       "      <td>NaN</td>\n",
       "      <td>NaN</td>\n",
       "      <td>NaN</td>\n",
       "      <td>NaN</td>\n",
       "      <td>NaN</td>\n",
       "      <td>NaN</td>\n",
       "    </tr>\n",
       "    <tr>\n",
       "      <th>2021-12-26 06:45:00</th>\n",
       "      <td>49857.0</td>\n",
       "      <td>49926.0</td>\n",
       "      <td>49852.0</td>\n",
       "      <td>49879.0</td>\n",
       "      <td>3.624762e+06</td>\n",
       "      <td>NaN</td>\n",
       "      <td>NaN</td>\n",
       "      <td>NaN</td>\n",
       "      <td>NaN</td>\n",
       "      <td>NaN</td>\n",
       "      <td>...</td>\n",
       "      <td>NaN</td>\n",
       "      <td>NaN</td>\n",
       "      <td>0</td>\n",
       "      <td>NaN</td>\n",
       "      <td>NaN</td>\n",
       "      <td>NaN</td>\n",
       "      <td>NaN</td>\n",
       "      <td>NaN</td>\n",
       "      <td>NaN</td>\n",
       "      <td>NaN</td>\n",
       "    </tr>\n",
       "    <tr>\n",
       "      <th>2021-12-26 06:50:00</th>\n",
       "      <td>49879.0</td>\n",
       "      <td>49906.0</td>\n",
       "      <td>49870.0</td>\n",
       "      <td>49899.0</td>\n",
       "      <td>2.146552e+06</td>\n",
       "      <td>NaN</td>\n",
       "      <td>NaN</td>\n",
       "      <td>NaN</td>\n",
       "      <td>NaN</td>\n",
       "      <td>NaN</td>\n",
       "      <td>...</td>\n",
       "      <td>NaN</td>\n",
       "      <td>NaN</td>\n",
       "      <td>0</td>\n",
       "      <td>NaN</td>\n",
       "      <td>NaN</td>\n",
       "      <td>NaN</td>\n",
       "      <td>NaN</td>\n",
       "      <td>NaN</td>\n",
       "      <td>NaN</td>\n",
       "      <td>NaN</td>\n",
       "    </tr>\n",
       "    <tr>\n",
       "      <th>2021-12-26 06:55:00</th>\n",
       "      <td>49899.0</td>\n",
       "      <td>49929.0</td>\n",
       "      <td>49879.0</td>\n",
       "      <td>49929.0</td>\n",
       "      <td>2.214015e+06</td>\n",
       "      <td>NaN</td>\n",
       "      <td>NaN</td>\n",
       "      <td>NaN</td>\n",
       "      <td>NaN</td>\n",
       "      <td>NaN</td>\n",
       "      <td>...</td>\n",
       "      <td>NaN</td>\n",
       "      <td>NaN</td>\n",
       "      <td>0</td>\n",
       "      <td>NaN</td>\n",
       "      <td>NaN</td>\n",
       "      <td>NaN</td>\n",
       "      <td>NaN</td>\n",
       "      <td>NaN</td>\n",
       "      <td>NaN</td>\n",
       "      <td>NaN</td>\n",
       "    </tr>\n",
       "    <tr>\n",
       "      <th>2021-12-26 07:00:00</th>\n",
       "      <td>49929.0</td>\n",
       "      <td>49935.0</td>\n",
       "      <td>49889.0</td>\n",
       "      <td>49911.0</td>\n",
       "      <td>3.076039e+06</td>\n",
       "      <td>33.023994</td>\n",
       "      <td>-17.0</td>\n",
       "      <td>-67.023994</td>\n",
       "      <td>NaN</td>\n",
       "      <td>NaN</td>\n",
       "      <td>...</td>\n",
       "      <td>NaN</td>\n",
       "      <td>NaN</td>\n",
       "      <td>0</td>\n",
       "      <td>NaN</td>\n",
       "      <td>NaN</td>\n",
       "      <td>NaN</td>\n",
       "      <td>NaN</td>\n",
       "      <td>NaN</td>\n",
       "      <td>NaN</td>\n",
       "      <td>25.011997</td>\n",
       "    </tr>\n",
       "  </tbody>\n",
       "</table>\n",
       "<p>5 rows × 67 columns</p>\n",
       "</div>"
      ],
      "text/plain": [
       "                        Open     High      Low    Close        Volume  \\\n",
       "Date Time                                                               \n",
       "2021-12-26 06:40:00  49944.0  49944.0  49828.0  49857.0  6.472639e+06   \n",
       "2021-12-26 06:45:00  49857.0  49926.0  49852.0  49879.0  3.624762e+06   \n",
       "2021-12-26 06:50:00  49879.0  49906.0  49870.0  49899.0  2.146552e+06   \n",
       "2021-12-26 06:55:00  49899.0  49929.0  49879.0  49929.0  2.214015e+06   \n",
       "2021-12-26 07:00:00  49929.0  49935.0  49889.0  49911.0  3.076039e+06   \n",
       "\n",
       "                     BBANDS_upperband  BBANDS_middleband  BBANDS_lowerband  \\\n",
       "Date Time                                                                    \n",
       "2021-12-26 06:40:00               NaN                NaN               NaN   \n",
       "2021-12-26 06:45:00               NaN                NaN               NaN   \n",
       "2021-12-26 06:50:00               NaN                NaN               NaN   \n",
       "2021-12-26 06:55:00               NaN                NaN               NaN   \n",
       "2021-12-26 07:00:00         33.023994              -17.0        -67.023994   \n",
       "\n",
       "                     DEMA  EMA  ...  HT_SINE_sine  HT_SINE_leadsine  \\\n",
       "Date Time                       ...                                   \n",
       "2021-12-26 06:40:00   NaN  NaN  ...           NaN               NaN   \n",
       "2021-12-26 06:45:00   NaN  NaN  ...           NaN               NaN   \n",
       "2021-12-26 06:50:00   NaN  NaN  ...           NaN               NaN   \n",
       "2021-12-26 06:55:00   NaN  NaN  ...           NaN               NaN   \n",
       "2021-12-26 07:00:00   NaN  NaN  ...           NaN               NaN   \n",
       "\n",
       "                     HT_TRENDMODE  BETA  CORREL  LINEARREG  LINEARREG_ANGLE  \\\n",
       "Date Time                                                                     \n",
       "2021-12-26 06:40:00             0   NaN     NaN        NaN              NaN   \n",
       "2021-12-26 06:45:00             0   NaN     NaN        NaN              NaN   \n",
       "2021-12-26 06:50:00             0   NaN     NaN        NaN              NaN   \n",
       "2021-12-26 06:55:00             0   NaN     NaN        NaN              NaN   \n",
       "2021-12-26 07:00:00             0   NaN     NaN        NaN              NaN   \n",
       "\n",
       "                     LINEARREG_INTERCEPT  LINEARREG_SLOPE     STDDEV  \n",
       "Date Time                                                             \n",
       "2021-12-26 06:40:00                  NaN              NaN        NaN  \n",
       "2021-12-26 06:45:00                  NaN              NaN        NaN  \n",
       "2021-12-26 06:50:00                  NaN              NaN        NaN  \n",
       "2021-12-26 06:55:00                  NaN              NaN        NaN  \n",
       "2021-12-26 07:00:00                  NaN              NaN  25.011997  \n",
       "\n",
       "[5 rows x 67 columns]"
      ]
     },
     "execution_count": 13,
     "metadata": {},
     "output_type": "execute_result"
    }
   ],
   "source": [
    "features.head()"
   ]
  },
  {
   "cell_type": "code",
   "execution_count": 6,
   "metadata": {},
   "outputs": [],
   "source": [
    "import pandas as pd\n",
    "import numba\n",
    "\n",
    "@numba.njit\n",
    "def _calc_force_entry_price(entry_price: pd.Series, lo: pd.Series, pips: int) -> Tuple[pd.Series, pd.Series]:\n",
    "    y = entry_price.copy()\n",
    "    y[:] = np.nan\n",
    "    force_entry_time = entry_price.copy()\n",
    "    force_entry_time[:] = np.nan\n",
    "    for i in range(entry_price.size):\n",
    "        for j in range(i + 1, entry_price.size):\n",
    "            if round(lo[j] / pips) < round(entry_price[j - 1] / pips):\n",
    "                y[i] = entry_price[j - 1]\n",
    "                force_entry_time[i] = j - i\n",
    "                break\n",
    "    return y, force_entry_time"
   ]
  },
  {
   "cell_type": "code",
   "execution_count": 7,
   "metadata": {},
   "outputs": [],
   "source": [
    "def _calculate_bs_price(features: pd.DataFrame, pips: int) -> pd.DataFrame:\n",
    "    # ATRで指値距離を計算します\n",
    "    limit_price_dist = features[\"ATR\"] * 0.5\n",
    "    limit_price_dist = np.maximum(1, (limit_price_dist / pips).round().fillna(1)) * pips\n",
    "\n",
    "    # 終値から両側にlimit_price_distだけ離れたところに、買い指値と売り指値を出します\n",
    "    features[\"buy_price\"] = features[\"Close\"] - limit_price_dist\n",
    "    features[\"sell_price\"] = features[\"Close\"] + limit_price_dist\n",
    "    return features"
   ]
  },
  {
   "cell_type": "code",
   "execution_count": 8,
   "metadata": {},
   "outputs": [],
   "source": [
    "def _calculate_bs_fep(features: pd.DataFrame, pips: int) -> pd.DataFrame:\n",
    "    # fep means Force Entry Price.\n",
    "    features[\"buy_fep\"], features[\"buy_fet\"] = _calc_force_entry_price(\n",
    "        entry_price=features[\"buy_price\"].values,\n",
    "        lo=features[\"Low\"].values,\n",
    "        pips=pips,\n",
    "    )\n",
    "\n",
    "    # calc_force_entry_priceは入力と出力をマイナスにすれば売りに使えます\n",
    "    features[\"sell_fep\"], features[\"sell_fet\"] = _calc_force_entry_price(\n",
    "        entry_price=-features[\"sell_price\"].values,\n",
    "        lo=-features[\"High\"].values, # 売りのときは高値\n",
    "        pips=pips,\n",
    "    )\n",
    "    features[\"sell_fep\"] *= -1\n",
    "    return features"
   ]
  },
  {
   "cell_type": "code",
   "execution_count": 9,
   "metadata": {},
   "outputs": [],
   "source": [
    "def calculate_estimate_target_value(features: pd.DataFrame, horizon: int, pips: int, fee: float) -> pd.DataFrame:\n",
    "    # If executed a price return 1. The other return 0.\n",
    "    features[\"buy_executed\"] = ((features[\"buy_price\"] / pips).round() > (features[\"Low\"].shift(-1) / pips).round()).astype('float64')\n",
    "    features[\"sell_executed\"] = ((features[\"sell_price\"] / pips).round() < (features[\"High\"].shift(-1) / pips).round()).astype('float64')\n",
    "\n",
    "    features[\"y_buy\"] = np.where(\n",
    "        features[\"buy_executed\"],\n",
    "        features[\"sell_fep\"].shift(-horizon) / features[\"buy_price\"] - 1 - 2 * fee,\n",
    "        0\n",
    "    )\n",
    "    features[\"y_sell\"] = np.where(\n",
    "        features[\"sell_executed\"],\n",
    "        -(features[\"buy_fep\"].shift(-horizon) / features[\"sell_price\"] - 1) - 2 * fee,\n",
    "        0\n",
    "    )\n",
    "    return features"
   ]
  },
  {
   "cell_type": "code",
   "execution_count": 10,
   "metadata": {},
   "outputs": [],
   "source": [
    "def calculate_execution_cost(features: pd.DataFrame, fee: float) -> pd.DataFrame:\n",
    "    features[\"buy_cost\"] = np.where(\n",
    "        features[\"buy_executed\"],\n",
    "        features[\"buy_price\"] / features[\"Close\"] - 1 + fee,\n",
    "        0\n",
    "    )\n",
    "    features[\"sell_cost\"] = np.where(\n",
    "        features[\"sell_executed\"],\n",
    "        -(features[\"sell_price\"] / features[\"Close\"] - 1) + fee,\n",
    "        0\n",
    "    )\n",
    "    return features"
   ]
  },
  {
   "cell_type": "code",
   "execution_count": 11,
   "metadata": {},
   "outputs": [
    {
     "name": "stdout",
     "output_type": "stream",
     "text": [
      "2022-01-01 06:29:06,385 - kedro.io.data_catalog - INFO - Loading data from `features` (PickleDataSet)...\n"
     ]
    },
    {
     "name": "stderr",
     "output_type": "stream",
     "text": [
      "/usr/local/lib/python3.8/site-packages/kedro/framework/context/context.py:488: UserWarning: Credentials not found in your Kedro project config.\n",
      "No files found in ['/backtest-example/backtest-example/conf/base'] matching the glob pattern(s): ['credentials*', 'credentials*/**', '**/credentials*']\n",
      "  warn(f\"Credentials not found in your Kedro project config.\\n{str(exc)}\")\n",
      "/usr/local/lib/python3.8/site-packages/kedro/config/config.py:296: UserWarning: Duplicate environment detected! Skipping re-loading from configuration path: /backtest-example/backtest-example/conf/base\n",
      "  warn(\n"
     ]
    }
   ],
   "source": [
    "pips = context.params[\"data_params\"][\"pips\"]\n",
    "features = _calculate_bs_price(context.catalog.load(\"features\"), pips)\n",
    "features = _calculate_bs_fep(features, pips)\n",
    "features = calculate_estimate_target_value(\n",
    "    features,\n",
    "    context.params[\"data_params\"][\"horizon\"],\n",
    "    context.params[\"data_params\"][\"pips\"],\n",
    "    context.params[\"data_params\"][\"fee\"],\n",
    ")\n",
    "features = calculate_execution_cost(\n",
    "    features, \n",
    "    context.params[\"data_params\"][\"fee\"]\n",
    ")"
   ]
  },
  {
   "cell_type": "code",
   "execution_count": 55,
   "metadata": {},
   "outputs": [],
   "source": [
    "import matplotlib.pylab as plt\n",
    "plt.style.use(\"ggplot\")\n",
    "\n",
    "def plot_prob(df: pd.DataFrame):\n",
    "    df['buy_executed'].rolling(1000).mean().plot(label='buy')\n",
    "    df['sell_executed'].rolling(1000).mean().plot(label='sale')\n",
    "    plt.title(\"execution prob\")\n",
    "    plt.legend()\n",
    "    plt.savefig(\n",
    "        \"../../../..\"+\"/\".join(context.catalog.datasets.execution_prob._filepath.parts)\n",
    "        ,bbox_inches=\"tight\")\n",
    "    plt.show()\n",
    "\n",
    "def plot_fet(df: pd.DataFrame):\n",
    "    print('エグジットまでの時間分布を可視化。長すぎるとロングしているだけとかショートしているだけになるので良くない。')\n",
    "    df['buy_fet'].rolling(1000).mean().plot(label='buy')\n",
    "    df['sell_fet'].rolling(1000).mean().plot(label='sale')\n",
    "    plt.title('Average time to exit')\n",
    "    plt.legend()\n",
    "    plt.savefig(\n",
    "        \"../../../..\"+\"/\".join(context.catalog.datasets.average_time_to_exit._filepath.parts)\n",
    "        ,bbox_inches=\"tight\")\n",
    "    plt.show()\n",
    "\n",
    "    df['buy_fet'].hist(alpha=0.3, label='buy')\n",
    "    df['sell_fet'].hist(alpha=0.3, label='sale')\n",
    "    plt.title('Time distribution to exit')\n",
    "    plt.legend()\n",
    "    plt.savefig(\n",
    "        \"../../../..\"+\"/\".join(context.catalog.datasets.time_distribution_to_exit._filepath.parts)\n",
    "        ,bbox_inches=\"tight\")\n",
    "    plt.show()\n",
    "\n",
    "def plot_return(df: pd.DataFrame):\n",
    "    print('毎時刻、この執行方法でトレードした場合の累積リターン')\n",
    "    df['y_buy'].cumsum().plot(label='buy')\n",
    "    df['y_sell'].cumsum().plot(label='sale')\n",
    "    plt.title('cumsum reaturn')\n",
    "    plt.legend()\n",
    "    plt.savefig(\n",
    "        \"../../../..\"+\"/\".join(context.catalog.datasets.cumsum_reaturn._filepath.parts)\n",
    "        ,bbox_inches=\"tight\")\n",
    "    plt.show()"
   ]
  },
  {
   "cell_type": "code",
   "execution_count": 56,
   "metadata": {},
   "outputs": [
    {
     "name": "stderr",
     "output_type": "stream",
     "text": [
      "/usr/local/lib/python3.8/site-packages/kedro/config/config.py:296: UserWarning: Duplicate environment detected! Skipping re-loading from configuration path: /backtest-example/backtest-example/conf/base\n",
      "  warn(\n",
      "/usr/local/lib/python3.8/site-packages/kedro/framework/context/context.py:488: UserWarning: Credentials not found in your Kedro project config.\n",
      "No files found in ['/backtest-example/backtest-example/conf/base'] matching the glob pattern(s): ['credentials*', 'credentials*/**', '**/credentials*']\n",
      "  warn(f\"Credentials not found in your Kedro project config.\\n{str(exc)}\")\n"
     ]
    },
    {
     "data": {
      "image/png": "[encoded data removed]",
      "text/plain": [
       "<Figure size 432x288 with 1 Axes>"
      ]
     },
     "metadata": {},
     "output_type": "display_data"
    },
    {
     "name": "stdout",
     "output_type": "stream",
     "text": [
      "エグジットまでの時間分布を可視化。長すぎるとロングしているだけとかショートしているだけになるので良くない。\n"
     ]
    },
    {
     "name": "stderr",
     "output_type": "stream",
     "text": [
      "/usr/local/lib/python3.8/site-packages/kedro/config/config.py:296: UserWarning: Duplicate environment detected! Skipping re-loading from configuration path: /backtest-example/backtest-example/conf/base\n",
      "  warn(\n",
      "/usr/local/lib/python3.8/site-packages/kedro/framework/context/context.py:488: UserWarning: Credentials not found in your Kedro project config.\n",
      "No files found in ['/backtest-example/backtest-example/conf/base'] matching the glob pattern(s): ['credentials*', 'credentials*/**', '**/credentials*']\n",
      "  warn(f\"Credentials not found in your Kedro project config.\\n{str(exc)}\")\n"
     ]
    },
    {
     "data": {
      "image/png": "[encoded data removed]",
      "text/plain": [
       "<Figure size 432x288 with 1 Axes>"
      ]
     },
     "metadata": {},
     "output_type": "display_data"
    },
    {
     "data": {
      "image/png": "[encoded data removed]",
      "text/plain": [
       "<Figure size 432x288 with 1 Axes>"
      ]
     },
     "metadata": {},
     "output_type": "display_data"
    },
    {
     "name": "stdout",
     "output_type": "stream",
     "text": [
      "毎時刻、この執行方法でトレードした場合の累積リターン\n"
     ]
    },
    {
     "name": "stderr",
     "output_type": "stream",
     "text": [
      "/usr/local/lib/python3.8/site-packages/kedro/config/config.py:296: UserWarning: Duplicate environment detected! Skipping re-loading from configuration path: /backtest-example/backtest-example/conf/base\n",
      "  warn(\n",
      "/usr/local/lib/python3.8/site-packages/kedro/framework/context/context.py:488: UserWarning: Credentials not found in your Kedro project config.\n",
      "No files found in ['/backtest-example/backtest-example/conf/base'] matching the glob pattern(s): ['credentials*', 'credentials*/**', '**/credentials*']\n",
      "  warn(f\"Credentials not found in your Kedro project config.\\n{str(exc)}\")\n"
     ]
    },
    {
     "data": {
      "image/png": "[encoded data removed]",
      "text/plain": [
       "<Figure size 432x288 with 1 Axes>"
      ]
     },
     "metadata": {},
     "output_type": "display_data"
    }
   ],
   "source": [
    "plot_prob(features)\n",
    "plot_fet(features)\n",
    "plot_return(features)"
   ]
  },
  {
   "cell_type": "code",
   "execution_count": 18,
   "metadata": {},
   "outputs": [],
   "source": [
    "from typing import Dict, List\n",
    "import pandas as pd\n",
    "import lightgbm as lgb\n",
    "from sklearn.model_selection import TimeSeriesSplit  # cross_val_score, KFold\n",
    "\n",
    "def _cross_val_predict(estimator, X, y, cv):\n",
    "    y_pred = y.copy()\n",
    "    y_pred[:] = np.nan\n",
    "    for train_idx, val_idx in cv:\n",
    "        estimator.fit(X[train_idx], y[train_idx])\n",
    "        y_pred[val_idx] = estimator.predict(X[val_idx])\n",
    "    return y_pred\n",
    "\n",
    "def train(features: pd.DataFrame, feature_columns: List[str], model_params: Dict[str,Any]):\n",
    "    features = features.dropna()\n",
    "    regressor = lgb.LGBMRegressor(**model_params[\"hyper_parameters\"])\n",
    "    cv_indicies = list(TimeSeriesSplit().split(features))\n",
    "    features[\"y_hat_buy\"] = _cross_val_predict(regressor, features[feature_columns].values, features[\"y_buy\"].values, cv=cv_indicies)\n",
    "    features[\"y_hat_sell\"] = _cross_val_predict(regressor, features[feature_columns].values, features[\"y_sell\"].values, cv=cv_indicies)\n",
    "    return features\n"
   ]
  },
  {
   "cell_type": "code",
   "execution_count": 46,
   "metadata": {},
   "outputs": [
    {
     "name": "stdout",
     "output_type": "stream",
     "text": [
      "2022-01-01 08:10:52,788 - kedro.io.data_catalog - INFO - Saving data to `model_input` (PickleDataSet)...\n"
     ]
    },
    {
     "name": "stderr",
     "output_type": "stream",
     "text": [
      "/usr/local/lib/python3.8/site-packages/kedro/config/config.py:296: UserWarning: Duplicate environment detected! Skipping re-loading from configuration path: /backtest-example/backtest-example/conf/base\n",
      "  warn(\n",
      "/usr/local/lib/python3.8/site-packages/kedro/framework/context/context.py:488: UserWarning: Credentials not found in your Kedro project config.\n",
      "No files found in ['/backtest-example/backtest-example/conf/base'] matching the glob pattern(s): ['credentials*', 'credentials*/**', '**/credentials*']\n",
      "  warn(f\"Credentials not found in your Kedro project config.\\n{str(exc)}\")\n"
     ]
    }
   ],
   "source": [
    "context.catalog.save(\"model_input\", features)"
   ]
  },
  {
   "cell_type": "code",
   "execution_count": null,
   "metadata": {},
   "outputs": [],
   "source": []
  }
 ],
 "metadata": {
  "interpreter": {
   "hash": "949777d72b0d2535278d3dc13498b2535136f6dfe0678499012e853ee9abcab1"
  },
  "kernelspec": {
   "display_name": "BacktestExample",
   "language": "python",
   "name": "python3"
  },
  "language_info": {
   "codemirror_mode": {
    "name": "ipython",
    "version": 3
   },
   "file_extension": ".py",
   "mimetype": "text/x-python",
   "name": "python",
   "nbconvert_exporter": "python",
   "pygments_lexer": "ipython3",
   "version": "3.8.12"
  }
 },
 "nbformat": 4,
 "nbformat_minor": 2
}
